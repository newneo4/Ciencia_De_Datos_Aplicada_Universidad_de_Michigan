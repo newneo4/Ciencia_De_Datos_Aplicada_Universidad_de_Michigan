{
 "cells": [
  {
   "cell_type": "markdown",
   "metadata": {},
   "source": [
    "Manejo de cadenas"
   ]
  },
  {
   "cell_type": "code",
   "execution_count": 7,
   "metadata": {},
   "outputs": [
    {
     "name": "stdout",
     "output_type": "stream",
     "text": [
      "Chris bougth 4 items at a price of 3.24 each for total of 12.96\n"
     ]
    }
   ],
   "source": [
    "sales_record = {\n",
    "        'price' : 3.24,\n",
    "        'nums_items' : 4,\n",
    "        'person': 'Chris'\n",
    "}\n",
    "\n",
    "sale_statement = '{} bougth {} items at a price of {} each for total of {}'\n",
    "\n",
    "print (sale_statement.format(sales_record['person'],sales_record['nums_items'], sales_record['price'], sales_record['price']*sales_record['nums_items']))"
   ]
  }
 ],
 "metadata": {
  "kernelspec": {
   "display_name": "Python 3",
   "language": "python",
   "name": "python3"
  },
  "language_info": {
   "codemirror_mode": {
    "name": "ipython",
    "version": 3
   },
   "file_extension": ".py",
   "mimetype": "text/x-python",
   "name": "python",
   "nbconvert_exporter": "python",
   "pygments_lexer": "ipython3",
   "version": "3.10.6"
  },
  "orig_nbformat": 4
 },
 "nbformat": 4,
 "nbformat_minor": 2
}
