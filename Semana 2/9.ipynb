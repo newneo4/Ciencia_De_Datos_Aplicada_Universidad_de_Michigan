{
 "cells": [
  {
   "cell_type": "markdown",
   "metadata": {},
   "source": [
    "## Question 1\n",
    "Write a function called `proportion_of_education` which returns the proportion of children in the dataset who had a mother with the education levels equal to less than high school (<12), high school (12), more than high school but not a college graduate (>12) and college degree.\n",
    "\n",
    "*This function should return a dictionary in the form of (use the correct numbers, do not round numbers):* \n",
    "```\n",
    "    {\"less than high school\":0.2,\n",
    "    \"high school\":0.4,\n",
    "    \"more than high school but not college\":0.2,\n",
    "    \"college\":0.2}\n",
    "```"
   ]
  },
  {
   "cell_type": "code",
   "execution_count": 11,
   "metadata": {},
   "outputs": [],
   "source": [
    "import pandas as pd\n",
    "\n",
    "df = pd.read_csv('NISPUF17.csv')\n"
   ]
  },
  {
   "cell_type": "code",
   "execution_count": 10,
   "metadata": {},
   "outputs": [],
   "source": [
    "def proportion_of_education():\n",
    "    # Count non-null values in the 'EDUC1' column\n",
    "    total_count = df['EDUC1'].count()\n",
    "\n",
    "    data = {\n",
    "        \"less than high school\": df['EDUC1'].eq(1).sum() / total_count,\n",
    "        \"high school\": df['EDUC1'].eq(2).sum() / total_count,\n",
    "        \"more than high school\": df['EDUC1'].eq(3).sum() / total_count,\n",
    "        \"college\": df['EDUC1'].eq(4).sum() / total_count\n",
    "    }\n",
    "\n",
    "    return data\n",
    "    \n"
   ]
  },
  {
   "cell_type": "markdown",
   "metadata": {},
   "source": [
    "Question 2\n",
    "Let's explore the relationship between being fed breastmilk as a child and getting a seasonal influenza vaccine from a healthcare provider. Return a tuple of the average number of influenza vaccines for those children we know received breastmilk as a child and those who know did not.\n",
    "\n",
    "This function should return a tuple in the form (use the correct numbers:\n",
    "\n",
    "(2.5, 0.1)"
   ]
  },
  {
   "cell_type": "code",
   "execution_count": 9,
   "metadata": {},
   "outputs": [
    {
     "data": {
      "text/plain": [
       "array([ 1,  2, 99, 77], dtype=int64)"
      ]
     },
     "execution_count": 9,
     "metadata": {},
     "output_type": "execute_result"
    }
   ],
   "source": [
    "df['CBF_01'].unique()\n",
    "#df['P_NUMFLU'].unique()"
   ]
  },
  {
   "cell_type": "code",
   "execution_count": 8,
   "metadata": {},
   "outputs": [
    {
     "data": {
      "text/plain": [
       "(1.8799187420058687, 1.5963945918878317)"
      ]
     },
     "execution_count": 8,
     "metadata": {},
     "output_type": "execute_result"
    }
   ],
   "source": [
    "def average_influenza_doses():\n",
    "    value1 = df.loc[df['CBF_01'] == 1, 'P_NUMFLU'].mean()\n",
    "    value2 = df.loc[df['CBF_01'] == 2, 'P_NUMFLU'].mean()\n",
    "\n",
    "    return (value1, value2)\n",
    "\n",
    "average_influenza_doses()"
   ]
  },
  {
   "cell_type": "markdown",
   "metadata": {},
   "source": [
    "It would be interesting to see if there is any evidence of a link between vaccine effectiveness and sex of the child. Calculate the ratio of the number of children who contracted chickenpox but were vaccinated against it (at least one varicella dose) versus those who were vaccinated but did not contract chicken pox. Return results by sex.\n",
    "\n",
    "This function should return a dictionary in the form of (use the correct numbers):\n",
    "\n",
    "    {\"male\":0.2,\n",
    "    \"female\":0.4}\n",
    "Note: To aid in verification, the chickenpox_by_sex()['female'] value the autograder is looking for starts with the digits 0.0077."
   ]
  },
  {
   "cell_type": "code",
   "execution_count": 58,
   "metadata": {},
   "outputs": [
    {
     "data": {
      "text/plain": [
       "0        NaN\n",
       "1        NaN\n",
       "2        NaN\n",
       "3        1.0\n",
       "4        0.0\n",
       "        ... \n",
       "28460    NaN\n",
       "28461    NaN\n",
       "28462    NaN\n",
       "28463    NaN\n",
       "28464    NaN\n",
       "Name: P_NUMVRC, Length: 28465, dtype: float64"
      ]
     },
     "execution_count": 58,
     "metadata": {},
     "output_type": "execute_result"
    }
   ],
   "source": [
    "#df['HAD_CPOX'].unique() si tuvo varicela\n",
    "#df['SEX'].unique() sexo\n",
    "#df['P_NUMVRC']  vacunas varicela"
   ]
  },
  {
   "cell_type": "code",
   "execution_count": 7,
   "metadata": {},
   "outputs": [],
   "source": [
    "def chickenpox_by_sex():\n",
    "    # Filtrar datos para aquellos que contrajeron varicela y fueron vacunados\n",
    "    had_varicella_vaccinated = df[(df['HAD_CPOX'] == 1) & (df['P_NUMVRC'] >= 1)]\n",
    "\n",
    "    # Filtrar datos para aquellos que no contrajeron varicela pero fueron vacunados\n",
    "    not_had_varicella_vaccinated = df[(df['HAD_CPOX'] == 2) & (df['P_NUMVRC'] >= 1)]\n",
    "\n",
    "    # Calcular el ratio por sexo\n",
    "    ratio_male = had_varicella_vaccinated[df['SEX'] == 1].shape[0] / not_had_varicella_vaccinated[df['SEX'] == 1].shape[0]\n",
    "    ratio_female = had_varicella_vaccinated[df['SEX'] == 2].shape[0] / not_had_varicella_vaccinated[df['SEX'] == 2].shape[0]\n",
    "\n",
    "    data = {\n",
    "        \"male\": ratio_male,\n",
    "        \"female\": ratio_female\n",
    "    }\n",
    "\n",
    "    return data\n"
   ]
  },
  {
   "cell_type": "code",
   "execution_count": 6,
   "metadata": {},
   "outputs": [
    {
     "data": {
      "text/plain": [
       "0.07044873460147869"
      ]
     },
     "execution_count": 6,
     "metadata": {},
     "output_type": "execute_result"
    }
   ],
   "source": [
    "def corr_chickenpox():\n",
    "    import scipy.stats as stats\n",
    "    import pandas as pd\n",
    "    \n",
    "    df_aux = df[pd.notna(df['HAD_CPOX']) & pd.notna(df['P_NUMVRC']) & (df['HAD_CPOX'] != 77)]\n",
    "     \n",
    "    df_aux.sort_index(inplace=True)\n",
    "    \n",
    "    corr, pval=stats.pearsonr(df_aux['HAD_CPOX'], df_aux['P_NUMVRC'])\n",
    "    \n",
    "    #just return the correlation\n",
    "    return corr\n",
    "  \n",
    "corr_chickenpox()"
   ]
  },
  {
   "cell_type": "code",
   "execution_count": null,
   "metadata": {},
   "outputs": [],
   "source": []
  }
 ],
 "metadata": {
  "kernelspec": {
   "display_name": "nombre_del_kernel",
   "language": "python",
   "name": "nombre_del_kernel"
  },
  "language_info": {
   "codemirror_mode": {
    "name": "ipython",
    "version": 3
   },
   "file_extension": ".py",
   "mimetype": "text/x-python",
   "name": "python",
   "nbconvert_exporter": "python",
   "pygments_lexer": "ipython3",
   "version": "3.10.6"
  }
 },
 "nbformat": 4,
 "nbformat_minor": 2
}
