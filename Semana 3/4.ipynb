{
 "cells": [
  {
   "cell_type": "markdown",
   "metadata": {},
   "source": [
    "Escalas"
   ]
  },
  {
   "cell_type": "markdown",
   "metadata": {},
   "source": [
    "Claro, con gusto te explico qué son las escalas de datos numéricos. Las escalas de datos numéricos se refieren a la manera en que se representan y organizan los valores numéricos en un conjunto de datos. Estas escalas son fundamentales para comprender y analizar datos, ya que influyen en la interpretación de la información y en las conclusiones que se pueden extraer.\n",
    "\n",
    "Existen diferentes tipos de escalas de datos numéricos, y las principales son:\n",
    "\n",
    "1. **Escala Nominal:** En esta escala, los valores numéricos se utilizan simplemente para identificar categorías o clases, pero no hay un orden específico entre ellas. Por ejemplo, los números de identificación de estudiantes, colores o géneros son ejemplos de escalas nominales.\n",
    "\n",
    "2. **Escala Ordinal:** Aquí, los valores numéricos no solo identifican las categorías, sino que también indican un orden relativo entre ellas. Sin embargo, la distancia o diferencia entre los valores no tiene un significado específico. Un ejemplo común es la clasificación por preferencia, como \"primero\", \"segundo\" y \"tercero\".\n",
    "\n",
    "3. **Escala de Intervalo:** En esta escala, los valores numéricos representan no solo el orden, sino también la igualdad en las diferencias entre ellos. Sin embargo, el cero en esta escala no indica la ausencia de la característica medida, sino que es arbitrario. La temperatura en grados Celsius es un ejemplo de escala de intervalo.\n",
    "\n",
    "4. **Escala de Razón:** Esta escala es similar a la escala de intervalo, pero tiene un cero absoluto que indica la ausencia completa de la característica medida. Las operaciones de suma, resta, multiplicación y división son válidas en esta escala. Ejemplos incluyen la edad, la altura y el peso.\n",
    "\n",
    "Cuando trabajas con datos, es crucial entender la escala de los datos que estás manejando, ya que esto afecta la elección de las técnicas de análisis estadístico adecuadas y cómo interpretar los resultados. La elección de la escala depende del tipo de información que se está recolectando y del objetivo del análisis."
   ]
  },
  {
   "cell_type": "code",
   "execution_count": 4,
   "metadata": {},
   "outputs": [
    {
     "data": {
      "text/html": [
       "<div>\n",
       "<style scoped>\n",
       "    .dataframe tbody tr th:only-of-type {\n",
       "        vertical-align: middle;\n",
       "    }\n",
       "\n",
       "    .dataframe tbody tr th {\n",
       "        vertical-align: top;\n",
       "    }\n",
       "\n",
       "    .dataframe thead th {\n",
       "        text-align: right;\n",
       "    }\n",
       "</style>\n",
       "<table border=\"1\" class=\"dataframe\">\n",
       "  <thead>\n",
       "    <tr style=\"text-align: right;\">\n",
       "      <th></th>\n",
       "      <th>Grades</th>\n",
       "    </tr>\n",
       "  </thead>\n",
       "  <tbody>\n",
       "    <tr>\n",
       "      <th>excellent</th>\n",
       "      <td>A+</td>\n",
       "    </tr>\n",
       "    <tr>\n",
       "      <th>excellent</th>\n",
       "      <td>A</td>\n",
       "    </tr>\n",
       "    <tr>\n",
       "      <th>excellent</th>\n",
       "      <td>A-</td>\n",
       "    </tr>\n",
       "    <tr>\n",
       "      <th>good</th>\n",
       "      <td>B+</td>\n",
       "    </tr>\n",
       "    <tr>\n",
       "      <th>good</th>\n",
       "      <td>B</td>\n",
       "    </tr>\n",
       "    <tr>\n",
       "      <th>good</th>\n",
       "      <td>B-</td>\n",
       "    </tr>\n",
       "    <tr>\n",
       "      <th>ok</th>\n",
       "      <td>C+</td>\n",
       "    </tr>\n",
       "    <tr>\n",
       "      <th>ok</th>\n",
       "      <td>C</td>\n",
       "    </tr>\n",
       "    <tr>\n",
       "      <th>ok</th>\n",
       "      <td>C-</td>\n",
       "    </tr>\n",
       "    <tr>\n",
       "      <th>poor</th>\n",
       "      <td>D+</td>\n",
       "    </tr>\n",
       "    <tr>\n",
       "      <th>poor</th>\n",
       "      <td>D</td>\n",
       "    </tr>\n",
       "  </tbody>\n",
       "</table>\n",
       "</div>"
      ],
      "text/plain": [
       "          Grades\n",
       "excellent     A+\n",
       "excellent      A\n",
       "excellent     A-\n",
       "good          B+\n",
       "good           B\n",
       "good          B-\n",
       "ok            C+\n",
       "ok             C\n",
       "ok            C-\n",
       "poor          D+\n",
       "poor           D"
      ]
     },
     "execution_count": 4,
     "metadata": {},
     "output_type": "execute_result"
    }
   ],
   "source": [
    "import pandas as pd\n",
    "\n",
    "df = pd.DataFrame(['A+','A','A-','B+','B','B-','C+','C','C-','D+','D'], \n",
    "                  index=['excellent','excellent','excellent', 'good','good','good','ok','ok','ok','poor','poor'],\n",
    "                  columns = [\"Grades\"])\n",
    "\n",
    "df"
   ]
  },
  {
   "cell_type": "code",
   "execution_count": 5,
   "metadata": {},
   "outputs": [
    {
     "data": {
      "text/plain": [
       "Grades    object\n",
       "dtype: object"
      ]
     },
     "execution_count": 5,
     "metadata": {},
     "output_type": "execute_result"
    }
   ],
   "source": [
    "df.dtypes"
   ]
  },
  {
   "cell_type": "code",
   "execution_count": 6,
   "metadata": {},
   "outputs": [
    {
     "data": {
      "text/plain": [
       "excellent    A+\n",
       "excellent     A\n",
       "excellent    A-\n",
       "good         B+\n",
       "good          B\n",
       "Name: Grades, dtype: category\n",
       "Categories (11, object): ['A', 'A+', 'A-', 'B', ..., 'C+', 'C-', 'D', 'D+']"
      ]
     },
     "execution_count": 6,
     "metadata": {},
     "output_type": "execute_result"
    }
   ],
   "source": [
    "#podemos observar que tenemos los datos de la columna como un tipo objeto\n",
    "df['Grades'].astype(\"category\").head()"
   ]
  },
  {
   "cell_type": "code",
   "execution_count": 16,
   "metadata": {},
   "outputs": [
    {
     "data": {
      "text/plain": [
       "excellent    A+\n",
       "excellent     A\n",
       "excellent    A-\n",
       "good         B+\n",
       "good          B\n",
       "good         B-\n",
       "ok           C+\n",
       "ok            C\n",
       "ok           C-\n",
       "poor         D+\n",
       "poor          D\n",
       "Name: Grades, dtype: category\n",
       "Categories (11, object): ['D' < 'D+' < 'C-' < 'C' ... 'B+' < 'A-' < 'A' < 'A+']"
      ]
     },
     "execution_count": 16,
     "metadata": {},
     "output_type": "execute_result"
    }
   ],
   "source": [
    "#ahora hemos cambiamos el tipo de nuestros datos a categoricos\n",
    "#incluso podemos indicar a pandas el ordne de nuestros datos categoricos\n",
    "my_categories = pd.CategoricalDtype(categories=['D','D+','C-','C','C+','B-','B','B+','A-','A','A+'], \n",
    "                                    ordered=True)\n",
    "\n",
    "grades = df['Grades'].astype(my_categories)\n",
    "grades"
   ]
  },
  {
   "cell_type": "code",
   "execution_count": 9,
   "metadata": {},
   "outputs": [
    {
     "data": {
      "text/html": [
       "<div>\n",
       "<style scoped>\n",
       "    .dataframe tbody tr th:only-of-type {\n",
       "        vertical-align: middle;\n",
       "    }\n",
       "\n",
       "    .dataframe tbody tr th {\n",
       "        vertical-align: top;\n",
       "    }\n",
       "\n",
       "    .dataframe thead th {\n",
       "        text-align: right;\n",
       "    }\n",
       "</style>\n",
       "<table border=\"1\" class=\"dataframe\">\n",
       "  <thead>\n",
       "    <tr style=\"text-align: right;\">\n",
       "      <th></th>\n",
       "      <th>Grades</th>\n",
       "    </tr>\n",
       "  </thead>\n",
       "  <tbody>\n",
       "    <tr>\n",
       "      <th>ok</th>\n",
       "      <td>C+</td>\n",
       "    </tr>\n",
       "    <tr>\n",
       "      <th>ok</th>\n",
       "      <td>C-</td>\n",
       "    </tr>\n",
       "    <tr>\n",
       "      <th>poor</th>\n",
       "      <td>D+</td>\n",
       "    </tr>\n",
       "    <tr>\n",
       "      <th>poor</th>\n",
       "      <td>D</td>\n",
       "    </tr>\n",
       "  </tbody>\n",
       "</table>\n",
       "</div>"
      ],
      "text/plain": [
       "     Grades\n",
       "ok       C+\n",
       "ok       C-\n",
       "poor     D+\n",
       "poor      D"
      ]
     },
     "execution_count": 9,
     "metadata": {},
     "output_type": "execute_result"
    }
   ],
   "source": [
    "#y ahora podemos observar q las categorias siguen un orden\n",
    "df[df['Grades'] > 'C']"
   ]
  },
  {
   "cell_type": "code",
   "execution_count": 18,
   "metadata": {},
   "outputs": [
    {
     "data": {
      "text/plain": [
       "excellent    A+\n",
       "excellent     A\n",
       "excellent    A-\n",
       "good         B+\n",
       "good          B\n",
       "good         B-\n",
       "ok           C+\n",
       "Name: Grades, dtype: category\n",
       "Categories (11, object): ['D' < 'D+' < 'C-' < 'C' ... 'B+' < 'A-' < 'A' < 'A+']"
      ]
     },
     "execution_count": 18,
     "metadata": {},
     "output_type": "execute_result"
    }
   ],
   "source": [
    "#PODEMOS VER QUE DADO QUE ESTE DATAFRAME NO TIENE EL ORDEN ESTABLECIDO NO NOS EL RESULTADO QUERIDO, SIN EMBARGO\n",
    "grades[grades > 'C']"
   ]
  },
  {
   "cell_type": "code",
   "execution_count": 20,
   "metadata": {},
   "outputs": [
    {
     "data": {
      "text/plain": [
       "STNAME\n",
       "Alabama        71339.343284\n",
       "Alaska         24490.724138\n",
       "Arizona       426134.466667\n",
       "Arkansas       38878.906667\n",
       "California    642309.586207\n",
       "Name: CENSUS2010POP, dtype: float64"
      ]
     },
     "execution_count": 20,
     "metadata": {},
     "output_type": "execute_result"
    }
   ],
   "source": [
    "import numpy as np \n",
    "\n",
    "df = pd.read_csv('../Semana 2/census.csv')\n",
    "\n",
    "df = df[df['SUMLEV'] == 50]\n",
    "\n",
    "df = df.set_index('STNAME').groupby(level=0)['CENSUS2010POP'].agg(np.average)\n",
    "\n",
    "df.head()"
   ]
  },
  {
   "cell_type": "code",
   "execution_count": 22,
   "metadata": {},
   "outputs": [
    {
     "data": {
      "text/plain": [
       "STNAME\n",
       "Alabama                   (11706.087, 75333.413]\n",
       "Alaska                    (11706.087, 75333.413]\n",
       "Arizona                 (390320.176, 453317.529]\n",
       "Arkansas                  (11706.087, 75333.413]\n",
       "California              (579312.234, 642309.586]\n",
       "Colorado                 (75333.413, 138330.766]\n",
       "Connecticut             (390320.176, 453317.529]\n",
       "Delaware                (264325.471, 327322.823]\n",
       "District of Columbia    (579312.234, 642309.586]\n",
       "Florida                 (264325.471, 327322.823]\n",
       "Georgia                   (11706.087, 75333.413]\n",
       "Hawaii                  (264325.471, 327322.823]\n",
       "Idaho                     (11706.087, 75333.413]\n",
       "Illinois                 (75333.413, 138330.766]\n",
       "Indiana                   (11706.087, 75333.413]\n",
       "Iowa                      (11706.087, 75333.413]\n",
       "Kansas                    (11706.087, 75333.413]\n",
       "Kentucky                  (11706.087, 75333.413]\n",
       "Louisiana                 (11706.087, 75333.413]\n",
       "Maine                    (75333.413, 138330.766]\n",
       "Maryland                (201328.118, 264325.471]\n",
       "Massachusetts           (453317.529, 516314.881]\n",
       "Michigan                 (75333.413, 138330.766]\n",
       "Minnesota                 (11706.087, 75333.413]\n",
       "Mississippi               (11706.087, 75333.413]\n",
       "Missouri                  (11706.087, 75333.413]\n",
       "Montana                   (11706.087, 75333.413]\n",
       "Nebraska                  (11706.087, 75333.413]\n",
       "Nevada                  (138330.766, 201328.118]\n",
       "New Hampshire            (75333.413, 138330.766]\n",
       "New Jersey              (390320.176, 453317.529]\n",
       "New Mexico                (11706.087, 75333.413]\n",
       "New York                (264325.471, 327322.823]\n",
       "North Carolina           (75333.413, 138330.766]\n",
       "North Dakota              (11706.087, 75333.413]\n",
       "Ohio                     (75333.413, 138330.766]\n",
       "Oklahoma                  (11706.087, 75333.413]\n",
       "Oregon                   (75333.413, 138330.766]\n",
       "Pennsylvania            (138330.766, 201328.118]\n",
       "Rhode Island            (201328.118, 264325.471]\n",
       "South Carolina           (75333.413, 138330.766]\n",
       "South Dakota              (11706.087, 75333.413]\n",
       "Tennessee                 (11706.087, 75333.413]\n",
       "Texas                    (75333.413, 138330.766]\n",
       "Utah                     (75333.413, 138330.766]\n",
       "Vermont                   (11706.087, 75333.413]\n",
       "Virginia                  (11706.087, 75333.413]\n",
       "Washington              (138330.766, 201328.118]\n",
       "West Virginia             (11706.087, 75333.413]\n",
       "Wisconsin                (75333.413, 138330.766]\n",
       "Wyoming                   (11706.087, 75333.413]\n",
       "Name: CENSUS2010POP, dtype: category\n",
       "Categories (10, interval[float64, right]): [(11706.087, 75333.413] < (75333.413, 138330.766] < (138330.766, 201328.118] < (201328.118, 264325.471] ... (390320.176, 453317.529] < (453317.529, 516314.881] < (516314.881, 579312.234] < (579312.234, 642309.586]]"
      ]
     },
     "execution_count": 22,
     "metadata": {},
     "output_type": "execute_result"
    }
   ],
   "source": [
    "pd.cut(df, 10)"
   ]
  },
  {
   "cell_type": "code",
   "execution_count": 23,
   "metadata": {},
   "outputs": [
    {
     "name": "stdout",
     "output_type": "stream",
     "text": [
      "    Valores     Categorias\n",
      "0        38   (31.1, 40.8]\n",
      "1        97   (89.3, 99.0]\n",
      "2        41   (40.8, 50.5]\n",
      "3        66   (60.2, 69.9]\n",
      "4        67   (60.2, 69.9]\n",
      "5         7  (1.903, 11.7]\n",
      "6         2  (1.903, 11.7]\n",
      "7         6  (1.903, 11.7]\n",
      "8        46   (40.8, 50.5]\n",
      "9        99   (89.3, 99.0]\n",
      "10       46   (40.8, 50.5]\n",
      "11       80   (79.6, 89.3]\n",
      "12       41   (40.8, 50.5]\n",
      "13       53   (50.5, 60.2]\n",
      "14       18   (11.7, 21.4]\n",
      "15       24   (21.4, 31.1]\n",
      "16       15   (11.7, 21.4]\n",
      "17       91   (89.3, 99.0]\n",
      "18       73   (69.9, 79.6]\n",
      "19       59   (50.5, 60.2]\n"
     ]
    }
   ],
   "source": [
    "import pandas as pd\n",
    "import numpy as np\n",
    "\n",
    "# Crear un DataFrame con una columna de datos numéricos\n",
    "data = {'Valores': np.random.randint(0, 100, 20)}\n",
    "df = pd.DataFrame(data)\n",
    "\n",
    "# Aplicar pd.cut para dividir los datos en 10 intervalos\n",
    "df['Categorias'] = pd.cut(df['Valores'], bins=10)\n",
    "\n",
    "# Mostrar el DataFrame resultante\n",
    "print(df)\n"
   ]
  },
  {
   "cell_type": "markdown",
   "metadata": {},
   "source": [
    "La función `pd.cut()` es una herramienta útil en el análisis de datos cuando se desea discretizar o categorizar valores numéricos en intervalos específicos. Aquí hay algunas razones por las cuales podría resultar beneficiosa:\n",
    "\n",
    "1. **Análisis de la Distribución:** La función permite visualizar la distribución de datos al agruparlos en intervalos. Esto puede proporcionar una perspectiva más clara de la variabilidad de los datos y la concentración de valores en diferentes rangos.\n",
    "\n",
    "2. **Agrupación para Resumen Estadístico:** Facilita la creación de resúmenes estadísticos para cada intervalo, como calcular la media, la mediana o la frecuencia de los valores en cada categoría.\n",
    "\n",
    "3. **Preparación de Datos para Modelos de Aprendizaje Automático:** Algunos algoritmos de aprendizaje automático pueden beneficiarse de la categorización de datos numéricos en lugar de tratarlos como valores continuos. `pd.cut()` proporciona una manera conveniente de realizar esta discretización.\n",
    "\n",
    "4. **Facilita la Interpretación:** Al categorizar datos, especialmente en el contexto de análisis exploratorio de datos, puede hacer que la interpretación y la comunicación de resultados sean más comprensibles y accesibles.\n",
    "\n",
    "Es importante señalar que la elección del número de bins (intervalos) y la comprensión del contexto de los datos son aspectos cruciales al usar `pd.cut()`. Demasiados o muy pocos intervalos pueden afectar la utilidad de la visualización y el análisis. Además, el tipo de escala de datos (nominal, ordinal, de intervalo o de razón) también influirá en cómo se interpretan los resultados.\n",
    "\n",
    "En resumen, `pd.cut()` es una herramienta versátil que puede ser valiosa en diversas situaciones de análisis de datos, pero su efectividad depende de la comprensión del conjunto de datos y de los objetivos específicos del análisis."
   ]
  }
 ],
 "metadata": {
  "kernelspec": {
   "display_name": "Python 3",
   "language": "python",
   "name": "python3"
  },
  "language_info": {
   "codemirror_mode": {
    "name": "ipython",
    "version": 3
   },
   "file_extension": ".py",
   "mimetype": "text/x-python",
   "name": "python",
   "nbconvert_exporter": "python",
   "pygments_lexer": "ipython3",
   "version": "3.10.6"
  }
 },
 "nbformat": 4,
 "nbformat_minor": 2
}
